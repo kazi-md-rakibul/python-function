{
 "cells": [
  {
   "cell_type": "markdown",
   "id": "4786e0de",
   "metadata": {},
   "source": [
    "#Python Function"
   ]
  },
  {
   "cell_type": "code",
   "execution_count": 5,
   "id": "00710749",
   "metadata": {},
   "outputs": [
    {
     "name": "stdout",
     "output_type": "stream",
     "text": [
      "9 0 1\n"
     ]
    }
   ],
   "source": [
    "def least_difference(a,b,c):\n",
    "  dif1 = abs(a-b)\n",
    "  dif2 = abs(b-c)\n",
    "  dif3 = abs(a-c)\n",
    "  return min(dif1, dif2, dif3)\n",
    "\n",
    "print(\n",
    "    least_difference(1, 10, 100),\n",
    "    least_difference(1, 10, 10),\n",
    "    least_difference(5, 6, 7)\n",
    ")"
   ]
  },
  {
   "cell_type": "code",
   "execution_count": null,
   "id": "db746e02",
   "metadata": {},
   "outputs": [],
   "source": []
  }
 ],
 "metadata": {
  "kernelspec": {
   "display_name": "Python 3",
   "language": "python",
   "name": "python3"
  },
  "language_info": {
   "codemirror_mode": {
    "name": "ipython",
    "version": 3
   },
   "file_extension": ".py",
   "mimetype": "text/x-python",
   "name": "python",
   "nbconvert_exporter": "python",
   "pygments_lexer": "ipython3",
   "version": "3.11.9"
  }
 },
 "nbformat": 4,
 "nbformat_minor": 5
}
