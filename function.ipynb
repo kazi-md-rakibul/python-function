{
 "cells": [
  {
   "cell_type": "markdown",
   "id": "4786e0de",
   "metadata": {},
   "source": [
    "#Python Function"
   ]
  },
  {
   "cell_type": "markdown",
   "id": "53fc54f6",
   "metadata": {},
   "source": []
  }
 ],
 "metadata": {
  "language_info": {
   "name": "python"
  }
 },
 "nbformat": 4,
 "nbformat_minor": 5
}
